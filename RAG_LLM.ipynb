{
 "cells": [
  {
   "cell_type": "code",
   "execution_count": 7,
   "id": "6e412c50-d3cc-4588-ba0b-55d1faa5735c",
   "metadata": {},
   "outputs": [
    {
     "name": "stdout",
     "output_type": "stream",
     "text": [
      "\u001b[31mERROR: Could not find a version that satisfies the requirement faiss-gpu (from versions: none)\u001b[0m\u001b[31m\n",
      "\u001b[0m\u001b[31mERROR: No matching distribution found for faiss-gpu\u001b[0m\u001b[31m\n",
      "\u001b[0m"
     ]
    }
   ],
   "source": [
    "#!pip install faiss-gpu\n",
    "#https://medium.com/@turna.fardousi/how-to-build-a-simple-rag-llm-chatbot-47f3fcec8c85"
   ]
  },
  {
   "cell_type": "code",
   "execution_count": 8,
   "id": "78553bb4-4f7d-4f17-bb14-d21cabf38440",
   "metadata": {},
   "outputs": [],
   "source": [
    "import gradio as gr\n",
    "from huggingface_hub import InferenceClient\n",
    "from typing import List, Tuple\n",
    "import fitz  # PyMuPDF\n",
    "from sentence_transformers import SentenceTransformer, util\n",
    "import numpy as np\n",
    "import faiss\n",
    "\n",
    "client = InferenceClient(\"HuggingFaceH4/zephyr-7b-beta\")"
   ]
  },
  {
   "cell_type": "code",
   "execution_count": 13,
   "id": "16a3da23-fc7e-4903-bca0-afad9535efd2",
   "metadata": {},
   "outputs": [],
   "source": [
    "class MyApp:\n",
    "    def __init__(self) -> None:\n",
    "        self.documents = []\n",
    "        self.embeddings = None\n",
    "        self.index = None\n",
    "        self.load_pdf(\"/Users/nandini/Downloads/VVM_Scorecard.pdf\")\n",
    "        self.build_vector_db()\n",
    "\n",
    "    def load_pdf(self, file_path: str) -> None:\n",
    "        \"\"\"Extracts text from a PDF file and stores it in the app's documents.\"\"\"\n",
    "        doc = fitz.open(file_path)\n",
    "        self.documents = []\n",
    "        for page_num in range(len(doc)):\n",
    "            page = doc[page_num]\n",
    "            text = page.get_text()\n",
    "            self.documents.append({\"page\": page_num + 1, \"content\": text})\n",
    "        print(\"PDF processed successfully!\")\n",
    "        \n",
    "    def build_vector_db(self) -> None:\n",
    "        \"\"\"Builds a vector database using the content of the PDF.\"\"\"\n",
    "        model = SentenceTransformer('all-MiniLM-L6-v2')\n",
    "        # Generate embeddings for all document contents\n",
    "        self.embeddings = model.encode([doc[\"content\"] for doc in self.documents])\n",
    "        # Create a FAISS index\n",
    "        self.index = faiss.IndexFlatL2(self.embeddings.shape[1])\n",
    "        # Add the embeddings to the index\n",
    "        self.index.add(np.array(self.embeddings))\n",
    "        print(\"Vector database built successfully!\")\n",
    "        \n",
    "    def search_documents(self, query: str, k: int = 3) -> List[str]:\n",
    "        \"\"\"Searches for relevant documents using vector similarity.\"\"\"\n",
    "        model = SentenceTransformer('all-MiniLM-L6-v2')\n",
    "        # Generate an embedding for the query\n",
    "        query_embedding = model.encode([query])\n",
    "        # Perform a search in the FAISS index\n",
    "        D, I = self.index.search(np.array(query_embedding), k)\n",
    "        # Retrieve the top-k documents\n",
    "        results = [self.documents[i][\"content\"] for i in I[0]]\n",
    "        return results if results else [\"No relevant documents found.\"]"
   ]
  },
  {
   "cell_type": "code",
   "execution_count": 19,
   "id": "58a212bc-5f34-499f-b08d-584478754f32",
   "metadata": {},
   "outputs": [
    {
     "name": "stdout",
     "output_type": "stream",
     "text": [
      "PDF processed successfully!\n",
      "Vector database built successfully!\n"
     ]
    }
   ],
   "source": [
    "app = MyApp()\n",
    "\n",
    "def respond(\n",
    "    message: str,\n",
    "    history: List[Tuple[str, str]],\n",
    "    system_message: str,\n",
    "    max_tokens: int,\n",
    "    temperature: float,\n",
    "    top_p: float,\n",
    "):\n",
    "    system_message = \"You are a knowledgeable DBT coach. You always talk about one options at at a time. you add greetings and you ask questions like real counsellor. Remember you are helpful and a good listener. You are concise and never ask multiple questions, or give long response. You response like a human counsellor accurately and correctly. consider the users as your client. and practice verbal cues only where needed. Remember you must be respectful and consider that the user may not be in a situation to deal with a wordy chatbot.  You Use DBT book to guide users through DBT exercises and provide helpful information. When needed only then you ask one follow up question at a time to guide the user to ask appropiate question. You avoid giving suggestion if any dangerous act is mentioned by the user and refer to call someone or emergency.\"\n",
    "    messages = [{\"role\": \"system\", \"content\": system_message}]\n",
    "\n",
    "    for val in history:\n",
    "        if val[0]:\n",
    "            messages.append({\"role\": \"user\", \"content\": val[0]})\n",
    "        if val[1]:\n",
    "            messages.append({\"role\": \"assistant\", \"content\": val[1]})\n",
    "\n",
    "    messages.append({\"role\": \"user\", \"content\": message})\n",
    "\n",
    "    # RAG - Retrieve relevant documents\n",
    "    retrieved_docs = app.search_documents(message)\n",
    "    context = \"\\n\".join(retrieved_docs)\n",
    "    messages.append({\"role\": \"system\", \"content\": \"Relevant documents: \" + context})\n",
    "\n",
    "    response = \"\"\n",
    "    for message in client.chat_completion(\n",
    "        messages,\n",
    "        max_tokens=max_tokens,\n",
    "        stream=True,\n",
    "        temperature=temperature,\n",
    "        top_p=top_p,\n",
    "    ):\n",
    "        token = message.choices[0].delta.content\n",
    "        response += token\n",
    "        yield response"
   ]
  },
  {
   "cell_type": "code",
   "execution_count": 20,
   "id": "d3d00823-4f9e-4317-a68f-ff4484ae7a9e",
   "metadata": {},
   "outputs": [
    {
     "name": "stderr",
     "output_type": "stream",
     "text": [
      "/Applications/Utilities/anaconda3/lib/python3.12/site-packages/gradio/components/chatbot.py:248: UserWarning: The 'tuples' format for chatbot messages is deprecated and will be removed in a future version of Gradio. Please set type='messages' instead, which uses openai-style 'role' and 'content' keys.\n",
      "  warnings.warn(\n",
      "huggingface/tokenizers: The current process just got forked, after parallelism has already been used. Disabling parallelism to avoid deadlocks...\n",
      "To disable this warning, you can either:\n",
      "\t- Avoid using `tokenizers` before the fork if possible\n",
      "\t- Explicitly set the environment variable TOKENIZERS_PARALLELISM=(true | false)\n"
     ]
    },
    {
     "name": "stdout",
     "output_type": "stream",
     "text": [
      "* Running on local URL:  http://127.0.0.1:7864\n",
      "\n",
      "To create a public link, set `share=True` in `launch()`.\n"
     ]
    },
    {
     "data": {
      "text/html": [
       "<div><iframe src=\"http://127.0.0.1:7864/\" width=\"100%\" height=\"500\" allow=\"autoplay; camera; microphone; clipboard-read; clipboard-write;\" frameborder=\"0\" allowfullscreen></iframe></div>"
      ],
      "text/plain": [
       "<IPython.core.display.HTML object>"
      ]
     },
     "metadata": {},
     "output_type": "display_data"
    },
    {
     "name": "stderr",
     "output_type": "stream",
     "text": [
      "/Applications/Utilities/anaconda3/lib/python3.12/site-packages/gradio/helpers.py:968: UserWarning: Unexpected argument. Filling with None.\n",
      "  warnings.warn(\"Unexpected argument. Filling with None.\")\n"
     ]
    }
   ],
   "source": [
    "demo = gr.Blocks()\n",
    "\n",
    "with demo:\n",
    "    gr.Markdown(\"🧘‍♀️ **Dialectical Behaviour Therapy**\")\n",
    "    gr.Markdown(\n",
    "        \"‼️Disclaimer: This chatbot is based on a DBT exercise book that is publicly available. \"\n",
    "        \"We are not medical practitioners, and the use of this chatbot is at your own responsibility.‼️\"\n",
    "    )\n",
    "    \n",
    "    chatbot = gr.ChatInterface(\n",
    "        respond,\n",
    "        examples=[\n",
    "            [\"I feel overwhelmed with work.\"],\n",
    "            [\"Can you guide me through a quick meditation?\"],\n",
    "            [\"How do I stop worrying about things I can't control?\"],\n",
    "            [\"What are some DBT skills for managing anxiety?\"],\n",
    "            [\"Can you explain mindfulness in DBT?\"],\n",
    "            [\"I am interested in DBT excercises\"],\n",
    "            [\"I feel restless. Please help me.\"],\n",
    "            [\"I have destructive thoughts coming to my mind repetatively.\"]\n",
    "        ],\n",
    "        title='Dialectical Behaviour Therapy Assistant 👩‍⚕️'\n",
    "    )\n",
    "\n",
    "if __name__ == \"__main__\":\n",
    "    demo.launch()"
   ]
  }
 ],
 "metadata": {
  "kernelspec": {
   "display_name": "Python 3 (ipykernel)",
   "language": "python",
   "name": "python3"
  },
  "language_info": {
   "codemirror_mode": {
    "name": "ipython",
    "version": 3
   },
   "file_extension": ".py",
   "mimetype": "text/x-python",
   "name": "python",
   "nbconvert_exporter": "python",
   "pygments_lexer": "ipython3",
   "version": "3.12.4"
  }
 },
 "nbformat": 4,
 "nbformat_minor": 5
}
